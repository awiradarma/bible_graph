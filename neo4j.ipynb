{
 "cells": [
  {
   "cell_type": "code",
   "execution_count": 1,
   "id": "ba6f7ef9-b178-4790-b7da-ad712dbb0987",
   "metadata": {},
   "outputs": [],
   "source": [
    "import os"
   ]
  },
  {
   "cell_type": "code",
   "execution_count": 16,
   "id": "e5f6ed33-cf51-41e1-a78d-460fce4a76bc",
   "metadata": {},
   "outputs": [],
   "source": [
    "from neo4j import GraphDatabase\n",
    "\n",
    "URI = \"neo4j://localhost\"\n",
    "AUTH = (\"neo4j\",\"password\")\n",
    "\n",
    "driver = GraphDatabase.driver(URI, auth=AUTH)"
   ]
  },
  {
   "cell_type": "code",
   "execution_count": 25,
   "id": "bbc4128e-a873-4ad8-ba60-beb944ce0961",
   "metadata": {},
   "outputs": [],
   "source": [
    "from typing_extensions import LiteralString\n",
    "from typing import cast\n",
    "from textwrap import dedent\n",
    "\n",
    "def query(q: LiteralString) -> LiteralString:\n",
    "    # this is a safe transform:\n",
    "    # no way for cypher injection by trimming whitespace\n",
    "    # hence, we can safely cast to LiteralString\n",
    "    return cast(LiteralString, dedent(q).strip())\n",
    "    \n",
    "result = driver.execute_query(\n",
    "        query(\"\"\"\n",
    "            MATCH (p:Person)-[l:IS_RELATED_TO]->(s:Person)\n",
    "            RETURN p,l,s\n",
    "            LIMIT 1\n",
    "        \"\"\"),\n",
    "        database_=\"neo4j\",\n",
    "        routing_=\"r\"\n",
    "    )"
   ]
  },
  {
   "cell_type": "code",
   "execution_count": 63,
   "id": "0cf3c84d-2ae1-47f8-ae7a-f7c46d9685b1",
   "metadata": {},
   "outputs": [
    {
     "data": {
      "text/plain": [
       "<Node element_id='4:efb30787-9c64-49cd-afb8-1d6169196306:0' labels=frozenset({'Person'}) properties={'sex': 'male', 'name': 'YHVH', 'id': 'YHVH_1', 'unique_attribute': 'Holy, Holy, Holy (ISA 6:3) and too many others to fit here'}>"
      ]
     },
     "execution_count": 63,
     "metadata": {},
     "output_type": "execute_result"
    }
   ],
   "source": [
    "result[0][0][0]"
   ]
  },
  {
   "cell_type": "code",
   "execution_count": null,
   "id": "1173d1b5-6131-4dc9-9a34-898c91d66abe",
   "metadata": {},
   "outputs": [],
   "source": []
  }
 ],
 "metadata": {
  "kernelspec": {
   "display_name": "Python 3 (ipykernel)",
   "language": "python",
   "name": "python3"
  },
  "language_info": {
   "codemirror_mode": {
    "name": "ipython",
    "version": 3
   },
   "file_extension": ".py",
   "mimetype": "text/x-python",
   "name": "python",
   "nbconvert_exporter": "python",
   "pygments_lexer": "ipython3",
   "version": "3.12.3"
  }
 },
 "nbformat": 4,
 "nbformat_minor": 5
}
